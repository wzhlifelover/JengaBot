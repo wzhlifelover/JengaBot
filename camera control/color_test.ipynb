{
 "cells": [
  {
   "cell_type": "code",
   "execution_count": 18,
   "metadata": {},
   "outputs": [],
   "source": [
    "def getCupLocation2D_RED(fname):\n",
    "    low_H = 0.011 * 180\n",
    "    low_S = 0.658 * 255\n",
    "    low_V = 0.545 * 255\n",
    "    high_H = 0.034 * 180\n",
    "    high_S = 0.816 * 255\n",
    "    high_V = 0.773 * 255\n",
    "    img = cv2.imread(fname)\n",
    "\n",
    "    img_HSV = cv2.cvtColor(img, cv2.COLOR_BGR2HSV)\n",
    "    img_threshold = cv2.inRange(img_HSV, (low_H, low_S, low_V), (high_H, high_S, high_V))\n",
    "    num_labels, labels, stats, centroids = cv2.connectedComponentsWithStats(img_threshold, 4, cv2.CV_32S)\n",
    "\n",
    "    # Map component labels to hue val, 0-179 is the hue range in OpenCV\n",
    "    label_hue = np.uint8(179*labels/np.max(labels))\n",
    "    blank_ch = 255*np.ones_like(label_hue)\n",
    "    labeled_img = cv2.merge([label_hue, blank_ch, blank_ch])\n",
    "\n",
    "    # Converting cvt to BGR\n",
    "    labeled_img = cv2.cvtColor(labeled_img, cv2.COLOR_HSV2BGR)\n",
    "\n",
    "    # set bg label to black\n",
    "    labeled_img[label_hue==0] = 0\n",
    "    \n",
    "    # find component with largest area (excluding first component)\n",
    "    cup_label = np.argmax(stats[1:,4]) + 1 \n",
    "\n",
    "    return labeled_img, centroids[cup_label]\n",
    "\n",
    "def getCupLocation2D_GREEN(fname):\n",
    "    low_H = 0.282 * 180\n",
    "    low_S = 0.450 * 255\n",
    "    low_V = 0.478 * 255\n",
    "    high_H = 0.351 * 180\n",
    "    high_S = 0.574 * 255\n",
    "    high_V = 0.655 * 255\n",
    "    img = cv2.imread(fname)\n",
    "\n",
    "    img_HSV = cv2.cvtColor(img, cv2.COLOR_BGR2HSV)\n",
    "    img_threshold = cv2.inRange(img_HSV, (low_H, low_S, low_V), (high_H, high_S, high_V))\n",
    "    num_labels, labels, stats, centroids = cv2.connectedComponentsWithStats(img_threshold, 4, cv2.CV_32S)\n",
    "\n",
    "    # Map component labels to hue val, 0-179 is the hue range in OpenCV\n",
    "    label_hue = np.uint8(179*labels/np.max(labels))\n",
    "    blank_ch = 255*np.ones_like(label_hue)\n",
    "    labeled_img = cv2.merge([label_hue, blank_ch, blank_ch])\n",
    "\n",
    "    # Converting cvt to BGR\n",
    "    labeled_img = cv2.cvtColor(labeled_img, cv2.COLOR_HSV2BGR)\n",
    "\n",
    "    # set bg label to black\n",
    "    labeled_img[label_hue==0] = 0\n",
    "    \n",
    "    # find component with largest area (excluding first component)\n",
    "    cup_label = np.argmax(stats[1:,4]) + 1 \n",
    "\n",
    "    return labeled_img, centroids[cup_label]"
   ]
  },
  {
   "cell_type": "code",
   "execution_count": 25,
   "metadata": {},
   "outputs": [
    {
     "data": {
      "image/png": "[encoded data removed]",
      "text/plain": [
       "<Figure size 432x288 with 1 Axes>"
      ]
     },
     "metadata": {
      "needs_background": "light"
     },
     "output_type": "display_data"
    }
   ],
   "source": [
    "labeled_img1, x1 = getCupLocation2D_RED('calibration/calibration_picture/up1.jpg')\n",
    "labeled_img2, x2 = getCupLocation2D_GREEN('calibration/calibration_picture/up1.jpg')\n",
    "# show image for left camera\n",
    "plt.imshow(cv2.cvtColor(labeled_img1, cv2.COLOR_BGR2RGB))\n",
    "plt.axis(\"off\")\n",
    "plt.title(\"Left Image\")\n",
    "plt.show()\n",
    "center_up = (x1+x2)/2\n"
   ]
  },
  {
   "cell_type": "code",
   "execution_count": 26,
   "metadata": {},
   "outputs": [
    {
     "data": {
      "image/png": "[encoded data removed]",
      "text/plain": [
       "<Figure size 432x288 with 1 Axes>"
      ]
     },
     "metadata": {
      "needs_background": "light"
     },
     "output_type": "display_data"
    }
   ],
   "source": [
    "labeled_img1, x1 = getCupLocation2D_RED('calibration/calibration_picture/down1.jpg')\n",
    "labeled_img2, x2 = getCupLocation2D_GREEN('calibration/calibration_picture/down1.jpg')\n",
    "# show image for left camera\n",
    "plt.imshow(cv2.cvtColor(labeled_img1, cv2.COLOR_BGR2RGB))\n",
    "plt.axis(\"off\")\n",
    "plt.title(\"Left Image\")\n",
    "plt.show()\n",
    "center_down = (x1+x2)/2\n"
   ]
  },
  {
   "cell_type": "code",
   "execution_count": 29,
   "metadata": {},
   "outputs": [
    {
     "data": {
      "text/plain": [
       "array([[ -61.125275],\n",
       "       [ -95.59628 ],\n",
       "       [-369.0976  ]], dtype=float32)"
      ]
     },
     "execution_count": 29,
     "metadata": {},
     "output_type": "execute_result"
    }
   ],
   "source": [
    "from triangulation import triangulate\n",
    "triangulate(np.array([center_up], np.float32), np.array([center_down], np.float32))\n",
    "cam2arm = np.matmul(cup_coord, np.linalg.inv(observed_points))"
   ]
  },
  {
   "cell_type": "code",
   "execution_count": 2,
   "metadata": {},
   "outputs": [],
   "source": [
    "def get_center(mask):\n",
    "    minx = 99999\n",
    "    miny = 99999\n",
    "    maxx = -1\n",
    "    maxy = -1\n",
    "    for i in range(mask.shape[0]):\n",
    "        for j in range(mask.shape[1]):\n",
    "            if mask[i, j] == True:\n",
    "                if i<minx:\n",
    "                    minx = i\n",
    "                if i>maxx:\n",
    "                    maxx = i\n",
    "                if j<miny:\n",
    "                    miny = j\n",
    "                if j>maxy:\n",
    "                    maxy = j\n",
    "    return np.array(np.round([(maxx+minx)/2, (maxy+miny)/2]).astype(int))\n",
    "\n",
    "def get_center_mean(mask):\n",
    "    xsum = 0\n",
    "    ysum = 0\n",
    "    point_count = 0\n",
    "    for i in range(mask.shape[0]):\n",
    "        for j in range(mask.shape[1]):\n",
    "            if mask[i,j] == True:\n",
    "                xsum+=i\n",
    "                ysum+=j\n",
    "                point_count+=1\n",
    "    return np.array(np.round([xsum/point_count, ysum/point_count]).astype(int))"
   ]
  },
  {
   "cell_type": "code",
   "execution_count": 16,
   "metadata": {},
   "outputs": [
    {
     "ename": "IndexError",
     "evalue": "only integers, slices (`:`), ellipsis (`...`), numpy.newaxis (`None`) and integer or boolean arrays are valid indices",
     "output_type": "error",
     "traceback": [
      "\u001b[1;31m---------------------------------------------------------------------------\u001b[0m",
      "\u001b[1;31mIndexError\u001b[0m                                Traceback (most recent call last)",
      "\u001b[1;32m<ipython-input-16-7144227505f4>\u001b[0m in \u001b[0;36m<module>\u001b[1;34m\u001b[0m\n\u001b[0;32m     33\u001b[0m \u001b[0mred\u001b[0m\u001b[1;33m[\u001b[0m\u001b[0mimask_red\u001b[0m\u001b[1;33m]\u001b[0m \u001b[1;33m=\u001b[0m \u001b[0mimg\u001b[0m\u001b[1;33m[\u001b[0m\u001b[0mimask_red\u001b[0m\u001b[1;33m]\u001b[0m\u001b[1;33m\u001b[0m\u001b[1;33m\u001b[0m\u001b[0m\n\u001b[0;32m     34\u001b[0m \u001b[0mcenter_red\u001b[0m \u001b[1;33m=\u001b[0m \u001b[0mnp\u001b[0m\u001b[1;33m.\u001b[0m\u001b[0marray\u001b[0m\u001b[1;33m(\u001b[0m\u001b[1;33m[\u001b[0m\u001b[1;36m906.45\u001b[0m\u001b[1;33m,\u001b[0m      \u001b[1;36m854.44230769\u001b[0m\u001b[1;33m]\u001b[0m\u001b[1;33m)\u001b[0m\u001b[1;33m\u001b[0m\u001b[1;33m\u001b[0m\u001b[0m\n\u001b[1;32m---> 35\u001b[1;33m \u001b[0mred\u001b[0m\u001b[1;33m[\u001b[0m\u001b[0mcenter_red\u001b[0m\u001b[1;33m[\u001b[0m\u001b[1;36m0\u001b[0m\u001b[1;33m]\u001b[0m\u001b[1;33m,\u001b[0m \u001b[0mcenter_red\u001b[0m\u001b[1;33m[\u001b[0m\u001b[1;36m1\u001b[0m\u001b[1;33m]\u001b[0m\u001b[1;33m]\u001b[0m \u001b[1;33m=\u001b[0m \u001b[0mnp\u001b[0m\u001b[1;33m.\u001b[0m\u001b[0marray\u001b[0m\u001b[1;33m(\u001b[0m\u001b[1;33m[\u001b[0m\u001b[1;36m255\u001b[0m\u001b[1;33m,\u001b[0m\u001b[1;36m255\u001b[0m\u001b[1;33m,\u001b[0m\u001b[1;36m255\u001b[0m\u001b[1;33m]\u001b[0m\u001b[1;33m)\u001b[0m\u001b[1;33m\u001b[0m\u001b[1;33m\u001b[0m\u001b[0m\n\u001b[0m\u001b[0;32m     36\u001b[0m \u001b[1;33m\u001b[0m\u001b[0m\n\u001b[0;32m     37\u001b[0m \u001b[1;31m## slice the green\u001b[0m\u001b[1;33m\u001b[0m\u001b[1;33m\u001b[0m\u001b[1;33m\u001b[0m\u001b[0m\n",
      "\u001b[1;31mIndexError\u001b[0m: only integers, slices (`:`), ellipsis (`...`), numpy.newaxis (`None`) and integer or boolean arrays are valid indices"
     ]
    }
   ],
   "source": [
    "import cv2\n",
    "import numpy as np\n",
    "\n",
    "## Read\n",
    "img = cv2.imread('calibration/calibration_picture/up1.jpg')\n",
    "#img = cv2.imread(\"circle_RG.png\")\n",
    "\n",
    "## convert to hsv\n",
    "hsv = cv2.cvtColor(img, cv2.COLOR_BGR2HSV)\n",
    "\n",
    "low_H = 0.011 * 180\n",
    "low_S = 0.658 * 255\n",
    "low_V = 0.545 * 255\n",
    "high_H = 0.034 * 180\n",
    "high_S = 0.816 * 255\n",
    "high_V = 0.773 * 255\n",
    "\n",
    "## mask of green (36,25,25) ~ (86, 255,255)\n",
    "# mask = cv2.inRange(hsv, (36, 25, 25), (86, 255,255))\n",
    "mask_red = cv2.inRange(hsv, (low_H, low_S, low_V), (high_H, high_S, high_V))\n",
    "\n",
    "low_H = 0.282 * 180\n",
    "low_S = 0.450 * 255\n",
    "low_V = 0.478 * 255\n",
    "high_H = 0.351 * 180\n",
    "high_S = 0.574 * 255\n",
    "high_V = 0.655 * 255\n",
    "\n",
    "mask_green = cv2.inRange(hsv, (low_H, low_S, low_V), (high_H, high_S, high_V))\n",
    "## slice the red\n",
    "imask_red = mask_red>0\n",
    "red = np.zeros_like(img, np.uint8)\n",
    "red[imask_red] = img[imask_red]\n",
    "center_red = get_center_mean(imask_red)\n",
    "red[center_red[0], center_red[1]] = np.array([255,255,255])\n",
    "\n",
    "## slice the green\n",
    "imask_green = mask_green>0\n",
    "green = np.zeros_like(img, np.uint8)\n",
    "green[imask_green] = img[imask_green]\n",
    "center_green = get_center_mean(imask_green)\n",
    "green[center_green[0], center_green[1]] = np.array([255,255,255])\n",
    "center_jenga = np.array(np.round([(center_green[0]+center_red[0])/2, (center_green[1]+center_red[1])/2]).astype(int))\n",
    "\n",
    "final = np.zeros_like(img, np.uint8)\n",
    "final[imask_red] = red[imask_red]\n",
    "final[imask_green] = green[imask_green]\n",
    "final[center_jenga[0], center_jenga[1]] = np.array([255,255,0])\n",
    "## save\n",
    "#final = cv2.putText(final, 'green', (center_green[0], center_green[1]), cv2.FONT_HERSHEY_SIMPLEX, 1, (255, 0, 0), 2)\n",
    "cv2.imwrite(\"center_test.png\", final)\n",
    "center_L = center_jenga\n"
   ]
  },
  {
   "cell_type": "code",
   "execution_count": 32,
   "metadata": {},
   "outputs": [],
   "source": [
    "import cv2\n",
    "import numpy as np\n",
    "\n",
    "## Read\n",
    "img = cv2.imread(\"circles/circle1_R.jpeg\")\n",
    "#img = cv2.imread(\"circle_RG.png\")\n",
    "\n",
    "## convert to hsv\n",
    "hsv = cv2.cvtColor(img, cv2.COLOR_BGR2HSV)\n",
    "\n",
    "low_H = 0.011 * 180\n",
    "low_S = 0.658 * 255\n",
    "low_V = 0.545 * 255\n",
    "high_H = 0.034 * 180\n",
    "high_S = 0.816 * 255\n",
    "high_V = 0.773 * 255\n",
    "\n",
    "## mask of green (36,25,25) ~ (86, 255,255)\n",
    "# mask = cv2.inRange(hsv, (36, 25, 25), (86, 255,255))\n",
    "mask_red = cv2.inRange(hsv, (low_H, low_S, low_V), (high_H, high_S, high_V))\n",
    "\n",
    "low_H = 0.282 * 180\n",
    "low_S = 0.450 * 255\n",
    "low_V = 0.478 * 255\n",
    "high_H = 0.351 * 180\n",
    "high_S = 0.574 * 255\n",
    "high_V = 0.655 * 255\n",
    "\n",
    "mask_green = cv2.inRange(hsv, (low_H, low_S, low_V), (high_H, high_S, high_V))\n",
    "## slice the red\n",
    "imask_red = mask_red>0\n",
    "red = np.zeros_like(img, np.uint8)\n",
    "red[imask_red] = img[imask_red]\n",
    "center_red = get_center_mean(imask_red)\n",
    "red[center_red[0], center_red[1]] = np.array([255,255,255])\n",
    "\n",
    "## slice the green\n",
    "imask_green = mask_green>0\n",
    "green = np.zeros_like(img, np.uint8)\n",
    "green[imask_green] = img[imask_green]\n",
    "center_green = get_center_mean(imask_green)\n",
    "green[center_green[0], center_green[1]] = np.array([255,255,255])\n",
    "center_jenga = np.array(np.round([(center_green[0]+center_red[0])/2, (center_green[1]+center_red[1])/2]).astype(int))\n",
    "\n",
    "final = np.zeros_like(img, np.uint8)\n",
    "final[imask_red] = red[imask_red]\n",
    "final[imask_green] = green[imask_green]\n",
    "final[center_jenga[0], center_jenga[1]] = np.array([255,255,0])\n",
    "## save\n",
    "#final = cv2.putText(final, 'green', (center_green[0], center_green[1]), cv2.FONT_HERSHEY_SIMPLEX, 1, (255, 0, 0), 2)\n",
    "cv2.imwrite(\"centers_R.png\", final)\n",
    "center_R = center_jenga\n"
   ]
  },
  {
   "cell_type": "code",
   "execution_count": null,
   "metadata": {},
   "outputs": [],
   "source": [
    "vis = np.zeros((384, 836), np.float32)\n",
    "h,w = vis.shape\n",
    "vis2 = cv.CreateMat(h, w, cv.CV_32FC3)\n",
    "vis0 = cv.fromarray(vis)"
   ]
  },
  {
   "cell_type": "code",
   "execution_count": 7,
   "metadata": {},
   "outputs": [],
   "source": [
    "# %matplotlib notebook\n",
    "\n",
    "import numpy as np\n",
    "import cv2\n",
    "import matplotlib.pyplot as plt\n",
    "from mpl_toolkits.mplot3d import Axes3D\n"
   ]
  }
 ],
 "metadata": {
  "kernelspec": {
   "display_name": "Python 3",
   "language": "python",
   "name": "python3"
  },
  "language_info": {
   "codemirror_mode": {
    "name": "ipython",
    "version": 3
   },
   "file_extension": ".py",
   "mimetype": "text/x-python",
   "name": "python",
   "nbconvert_exporter": "python",
   "pygments_lexer": "ipython3",
   "version": "3.6.12"
  }
 },
 "nbformat": 4,
 "nbformat_minor": 4
}
