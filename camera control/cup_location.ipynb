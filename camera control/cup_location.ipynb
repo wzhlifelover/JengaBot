{
 "cells": [
  {
   "cell_type": "code",
   "execution_count": 1,
   "metadata": {},
   "outputs": [],
   "source": [
    "# %matplotlib notebook\n",
    "\n",
    "import numpy as np\n",
    "import cv2\n",
    "import matplotlib.pyplot as plt\n",
    "from mpl_toolkits.mplot3d import Axes3D\n"
   ]
  },
  {
   "cell_type": "code",
   "execution_count": 2,
   "metadata": {},
   "outputs": [],
   "source": [
    "def getCupLocation2D(fname):\n",
    "    low_H = 0.621 * 180\n",
    "    low_S = 0.409 * 255\n",
    "    low_V = 0.235 * 255\n",
    "    high_H = 0.694 * 180\n",
    "    high_S = 0.947 * 255\n",
    "    high_V = 0.871 * 255\n",
    "    \n",
    "    img = cv2.imread(fname)\n",
    "\n",
    "    img_HSV = cv2.cvtColor(img, cv2.COLOR_BGR2HSV)\n",
    "    img_threshold = cv2.inRange(img_HSV, (low_H, low_S, low_V), (high_H, high_S, high_V))\n",
    "    num_labels, labels, stats, centroids = cv2.connectedComponentsWithStats(img_threshold, 4, cv2.CV_32S)\n",
    "\n",
    "    # Map component labels to hue val, 0-179 is the hue range in OpenCV\n",
    "    label_hue = np.uint8(179*labels/np.max(labels))\n",
    "    blank_ch = 255*np.ones_like(label_hue)\n",
    "    labeled_img = cv2.merge([label_hue, blank_ch, blank_ch])\n",
    "\n",
    "    # Converting cvt to BGR\n",
    "    labeled_img = cv2.cvtColor(labeled_img, cv2.COLOR_HSV2BGR)\n",
    "\n",
    "    # set bg label to black\n",
    "    labeled_img[label_hue==0] = 0\n",
    "    \n",
    "    # find component with largest area (excluding first component)\n",
    "    cup_label = np.argmax(stats[1:,4]) + 1 \n",
    "\n",
    "    return labeled_img, centroids[cup_label]"
   ]
  },
  {
   "cell_type": "code",
   "execution_count": 3,
   "metadata": {},
   "outputs": [],
   "source": [
    "# ZED Instrinsic parameters\n",
    "# based on SN26462030.conf\n",
    "# Options: 2K, FHD, HD, VGA\n",
    "\n",
    "RT1 = np.concatenate((np.eye(3), np.zeros((3,1))), axis=1)\n",
    "\n",
    "R, jacob = cv2.Rodrigues(np.array([0.0027161, 0, 0.000430528]))\n",
    "T = np.array([[119.837, 0.0441432, -0.0386536]]).T\n",
    "\n",
    "RT2 = np.concatenate((R, T), axis=1)\n",
    "\n",
    "M1_2K = np.array([[1059.75, 0, 1118.19], \n",
    "                  [0, 1058.99, 615.079], \n",
    "                  [0, 0, 1]])\n",
    "\n",
    "M2_2K = np.array([[1059.55, 0, 1147.19], \n",
    "                  [0, 1058.64, 634.958], \n",
    "                  [0, 0, 1]])\n",
    "\n",
    "# k1, k2, p1, p2, k3\n",
    "dist1_2K = np.array([[-0.0435878, 0.0129137, -0.000229128, 0.000790854, -0.00592556]])\n",
    "dist2_2K = np.array([[-0.0398599, 0.00700217, -0.000241005, 0.000243961, -0.00359243]])\n",
    "\n",
    "M1 = M1_2K\n",
    "M2 = M2_2K\n",
    "dist1 = dist1_2K\n",
    "dist2 = dist2_2K\n",
    "\n",
    "P1 = np.matmul(M1, RT1)\n",
    "P2 = np.matmul(M2, RT2)"
   ]
  },
  {
   "cell_type": "code",
   "execution_count": 5,
   "metadata": {},
   "outputs": [
    {
     "name": "stdout",
     "output_type": "stream",
     "text": [
      "[[  15.52007591]\n",
      " [ -18.41277812]\n",
      " [-337.08984593]]\n"
     ]
    }
   ],
   "source": [
    "# triangulation of points\n",
    "labeled_img1, x1 = getCupLocation2D('calibration/calibration_picture/up1.jpg')\n",
    "labeled_img2, x2 = getCupLocation2D('calibration/calibration_picture/down1.jpg')\n",
    "\n",
    "image_size = (1920, 1080)\n",
    "\n",
    "R1, R2, P1, P2, Q, ROI1, ROI2 = cv2.stereoRectify(M1, dist1, M2, dist2, image_size, R, T)\n",
    "\n",
    "x1 = cv2.undistortPoints(x1, M1, dist1, R=R1, P=P1)\n",
    "x2 = cv2.undistortPoints(x2, M2, dist2, R=R2, P=P2)\n",
    "\n",
    "X = cv2.triangulatePoints(P1, P2, x1, x2)\n",
    "X = X/X[3]\n",
    "X = X[0:3]\n",
    "\n",
    "print(X)"
   ]
  },
  {
   "cell_type": "code",
   "execution_count": 6,
   "metadata": {},
   "outputs": [
    {
     "data": {
      "image/png": "[encoded data removed]",
      "text/plain": [
       "<Figure size 432x288 with 1 Axes>"
      ]
     },
     "metadata": {
      "needs_background": "light"
     },
     "output_type": "display_data"
    }
   ],
   "source": [
    "# show image for left camera\n",
    "plt.imshow(cv2.cvtColor(labeled_img1, cv2.COLOR_BGR2RGB))\n",
    "plt.axis(\"off\")\n",
    "plt.title(\"Left Image\")\n",
    "plt.show()"
   ]
  },
  {
   "cell_type": "code",
   "execution_count": 7,
   "metadata": {},
   "outputs": [
    {
     "data": {
      "image/png": "[encoded data removed]",
      "text/plain": [
       "<Figure size 432x288 with 1 Axes>"
      ]
     },
     "metadata": {
      "needs_background": "light"
     },
     "output_type": "display_data"
    }
   ],
   "source": [
    "# show image for right camera\n",
    "plt.imshow(cv2.cvtColor(labeled_img2, cv2.COLOR_BGR2RGB))\n",
    "plt.axis('off')\n",
    "plt.title(\"Right Image\")\n",
    "plt.show()"
   ]
  },
  {
   "cell_type": "code",
   "execution_count": null,
   "metadata": {},
   "outputs": [],
   "source": []
  }
 ],
 "metadata": {
  "kernelspec": {
   "display_name": "Python 3",
   "language": "python",
   "name": "python3"
  },
  "language_info": {
   "codemirror_mode": {
    "name": "ipython",
    "version": 3
   },
   "file_extension": ".py",
   "mimetype": "text/x-python",
   "name": "python",
   "nbconvert_exporter": "python",
   "pygments_lexer": "ipython3",
   "version": "3.6.12"
  }
 },
 "nbformat": 4,
 "nbformat_minor": 4
}
