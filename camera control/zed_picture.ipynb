{
 "cells": [
  {
   "cell_type": "code",
   "execution_count": null,
   "metadata": {},
   "outputs": [
    {
     "name": "stdout",
     "output_type": "stream",
     "text": [
      "Opening the Camera\n",
      "\n",
      "Image resolution: 1920 x 1080 || Image timestamp: 1618447231338\n",
      "\n",
      "circles/circle0_L.jpeg\n",
      "Image resolution: 1920 x 1080 || Image timestamp: 1618447231361\n",
      "\n",
      "circles/circle0_R.jpeg\n"
     ]
    },
    {
     "name": "stdin",
     "output_type": "stream",
     "text": [
      " \n"
     ]
    },
    {
     "name": "stdout",
     "output_type": "stream",
     "text": [
      "Image resolution: 1920 x 1080 || Image timestamp: 1618447257730\n",
      "\n",
      "circles/circle1_L.jpeg\n",
      "Image resolution: 1920 x 1080 || Image timestamp: 1618447257760\n",
      "\n",
      "circles/circle1_R.jpeg\n"
     ]
    },
    {
     "name": "stdin",
     "output_type": "stream",
     "text": [
      " \n"
     ]
    },
    {
     "name": "stdout",
     "output_type": "stream",
     "text": [
      "Image resolution: 1920 x 1080 || Image timestamp: 1618447263149\n",
      "\n",
      "circles/circle2_L.jpeg\n",
      "Image resolution: 1920 x 1080 || Image timestamp: 1618447263179\n",
      "\n",
      "circles/circle2_R.jpeg\n"
     ]
    },
    {
     "name": "stdin",
     "output_type": "stream",
     "text": [
      " \n"
     ]
    },
    {
     "name": "stdout",
     "output_type": "stream",
     "text": [
      "Image resolution: 1920 x 1080 || Image timestamp: 1618447286456\n",
      "\n",
      "circles/circle3_L.jpeg\n",
      "Image resolution: 1920 x 1080 || Image timestamp: 1618447286484\n",
      "\n",
      "circles/circle3_R.jpeg\n"
     ]
    }
   ],
   "source": [
    "import time\n",
    "import numpy as np\n",
    "import os\n",
    "import sys\n",
    "import random\n",
    "import math\n",
    "import re\n",
    "import matplotlib\n",
    "import matplotlib.pyplot as plt\n",
    "import matplotlib.patches as patches\n",
    "import matplotlib.image as mpimg\n",
    "import cv2\n",
    "import pyzed.sl as sl\n",
    "\n",
    "\n",
    "# Create a Camera object\n",
    "zed = sl.Camera()\n",
    "\n",
    "# Create a InitParameters object and set configuration parameters\n",
    "init_params = sl.InitParameters()\n",
    "init_params.camera_resolution = sl.RESOLUTION.HD1080  # Use HD1080 video mode\n",
    "init_params.camera_fps = 30  # Set fps at 30\n",
    "\n",
    "print(\"Opening the Camera\\n\")\n",
    "# Open the camera\n",
    "err = zed.open(init_params)\n",
    "if err != sl.ERROR_CODE.SUCCESS:\n",
    "    exit(1)\n",
    "\n",
    "#     zed_serial = zed.get_camera_information().serial_number\n",
    "#     print(\"Hello! This is my serial number: {}\".format(zed_serial))\n",
    "# Capture 50 frames and stop\n",
    "i = 0\n",
    "image = sl.Mat()\n",
    "runtime_parameters = sl.RuntimeParameters()\n",
    "while i < 50:\n",
    "    # Grab an image, a RuntimeParameters object must be given to grab()\n",
    "    if zed.grab(runtime_parameters) == sl.ERROR_CODE.SUCCESS:\n",
    "        # A new image is available if grab() returns SUCCESS\n",
    "        #LEFT\n",
    "        zed.retrieve_image(image, sl.VIEW.LEFT)\n",
    "        timestamp = zed.get_timestamp(sl.TIME_REFERENCE.CURRENT)  # Get the timestamp at the time the image was captured\n",
    "        print(\"Image resolution: {0} x {1} || Image timestamp: {2}\\n\".format(image.get_width(), image.get_height(),\n",
    "              timestamp.get_milliseconds()))\n",
    "        img = image.get_data()\n",
    "        img_name = 'circles/circle{}_L.jpeg'.format(i)\n",
    "        print(img_name)\n",
    "        image.write(img_name)\n",
    "        \n",
    "\n",
    "        #RIGHT\n",
    "        zed.retrieve_image(image, sl.VIEW.RIGHT)\n",
    "        timestamp = zed.get_timestamp(sl.TIME_REFERENCE.CURRENT)  # Get the timestamp at the time the image was captured\n",
    "        print(\"Image resolution: {0} x {1} || Image timestamp: {2}\\n\".format(image.get_width(), image.get_height(),\n",
    "              timestamp.get_milliseconds()))\n",
    "        img = image.get_data()\n",
    "        img_name = 'circles/circle{}_R.jpeg'.format(i)\n",
    "        print(img_name)\n",
    "        image.write(img_name)\n",
    "\n",
    "        input()\n",
    "        i = i + 1\n",
    "\n",
    "# Close the camera\n",
    "zed.close()"
   ]
  },
  {
   "cell_type": "code",
   "execution_count": null,
   "metadata": {},
   "outputs": [],
   "source": []
  }
 ],
 "metadata": {
  "kernelspec": {
   "display_name": "Python 3",
   "language": "python",
   "name": "python3"
  },
  "language_info": {
   "codemirror_mode": {
    "name": "ipython",
    "version": 3
   },
   "file_extension": ".py",
   "mimetype": "text/x-python",
   "name": "python",
   "nbconvert_exporter": "python",
   "pygments_lexer": "ipython3",
   "version": "3.6.12"
  }
 },
 "nbformat": 4,
 "nbformat_minor": 4
}
